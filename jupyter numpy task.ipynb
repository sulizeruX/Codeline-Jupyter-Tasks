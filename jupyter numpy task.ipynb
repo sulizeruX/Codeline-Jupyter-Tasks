{
 "cells": [
  {
   "cell_type": "markdown",
   "id": "b716b352",
   "metadata": {},
   "source": [
    "# Sulaiman's Numpy Practice"
   ]
  },
  {
   "cell_type": "markdown",
   "id": "febff591",
   "metadata": {},
   "source": [
    "## Part 1"
   ]
  },
  {
   "cell_type": "markdown",
   "id": "cfd040bd",
   "metadata": {},
   "source": [
    "### 1."
   ]
  },
  {
   "cell_type": "code",
   "execution_count": 11,
   "id": "828d7bfc-0b20-4b66-91c1-1cc95c3c7dcd",
   "metadata": {},
   "outputs": [
    {
     "name": "stdout",
     "output_type": "stream",
     "text": [
      "[ 1  2  3  4  5  6  7  8  9 10]\n"
     ]
    }
   ],
   "source": [
    "import numpy as np\n",
    "\n",
    "arr1d = np.arange(1, 11)\n",
    "print(arr1d)"
   ]
  },
  {
   "cell_type": "markdown",
   "id": "ba0e4984",
   "metadata": {},
   "source": [
    "### 2."
   ]
  },
  {
   "cell_type": "code",
   "execution_count": 3,
   "id": "2713ddff-695e-4b72-9df6-26fda2900e3e",
   "metadata": {},
   "outputs": [
    {
     "name": "stdout",
     "output_type": "stream",
     "text": [
      "[[1. 1. 1.]\n",
      " [1. 1. 1.]\n",
      " [1. 1. 1.]]\n"
     ]
    }
   ],
   "source": [
    "arr2d = np.ones((3, 3))\n",
    "print(arr2d)"
   ]
  },
  {
   "cell_type": "markdown",
   "id": "f6549025",
   "metadata": {},
   "source": [
    "### 3."
   ]
  },
  {
   "cell_type": "code",
   "execution_count": 4,
   "id": "506a1847-d957-43f8-ac16-a9cd3d0f67c8",
   "metadata": {},
   "outputs": [
    {
     "name": "stdout",
     "output_type": "stream",
     "text": [
      "[[0.12652432 0.08368838 0.86213628]\n",
      " [0.01307766 0.19861412 0.99594263]\n",
      " [0.26043157 0.22839793 0.55534169]]\n"
     ]
    }
   ],
   "source": [
    "random_matrix = np.random.rand(3, 3)\n",
    "print(random_matrix)"
   ]
  },
  {
   "cell_type": "markdown",
   "id": "2ac09477",
   "metadata": {},
   "source": [
    "### 4."
   ]
  },
  {
   "cell_type": "code",
   "execution_count": 6,
   "id": "7a36de4d",
   "metadata": {},
   "outputs": [
    {
     "name": "stdout",
     "output_type": "stream",
     "text": [
      "[10 12 14 16 18 20 22 24 26 28 30 32 34 36 38 40 42 44 46 48 50]\n"
     ]
    }
   ],
   "source": [
    "even_numbers = np.arange(10, 51, 2)\n",
    "print(even_numbers)"
   ]
  },
  {
   "cell_type": "markdown",
   "id": "46dc1bb1",
   "metadata": {},
   "source": [
    "### 5."
   ]
  },
  {
   "cell_type": "code",
   "execution_count": 7,
   "id": "1b2d6a65",
   "metadata": {},
   "outputs": [
    {
     "name": "stdout",
     "output_type": "stream",
     "text": [
      "[0.         0.16666667 0.33333333 0.5        0.66666667 0.83333333\n",
      " 1.        ]\n"
     ]
    }
   ],
   "source": [
    "linspace_array = np.linspace(0, 1, 7)\n",
    "print(linspace_array)"
   ]
  },
  {
   "cell_type": "markdown",
   "id": "b18d04a5",
   "metadata": {},
   "source": [
    "### 6."
   ]
  },
  {
   "cell_type": "code",
   "execution_count": 9,
   "id": "9d2c96de",
   "metadata": {},
   "outputs": [
    {
     "name": "stdout",
     "output_type": "stream",
     "text": [
      "(2, 3)\n",
      "2\n",
      "int64\n"
     ]
    }
   ],
   "source": [
    "arr = np.array([[1, 2, 3], [4, 5, 6]])\n",
    "shape = arr.shape\n",
    "print(shape)\n",
    "ndim = arr.ndim\n",
    "print(ndim)\n",
    "dtype = arr.dtype\n",
    "print(dtype)"
   ]
  },
  {
   "cell_type": "markdown",
   "id": "82733d97",
   "metadata": {},
   "source": [
    "## Part 2"
   ]
  },
  {
   "cell_type": "markdown",
   "id": "960dd823",
   "metadata": {},
   "source": [
    "### 1."
   ]
  },
  {
   "cell_type": "code",
   "execution_count": 13,
   "id": "3bf88625",
   "metadata": {},
   "outputs": [
    {
     "name": "stdout",
     "output_type": "stream",
     "text": [
      "[[ 1  2  3  4  5]\n",
      " [ 6  7  8  9 10]]\n"
     ]
    }
   ],
   "source": [
    "reshaped_arr = arr1d.reshape(2, 5)\n",
    "print(reshaped_arr)"
   ]
  },
  {
   "cell_type": "markdown",
   "id": "a9495889",
   "metadata": {},
   "source": [
    "### 2."
   ]
  },
  {
   "cell_type": "code",
   "execution_count": 14,
   "id": "9acef5ea",
   "metadata": {},
   "outputs": [
    {
     "data": {
      "text/plain": [
       "array([[ 1,  6],\n",
       "       [ 2,  7],\n",
       "       [ 3,  8],\n",
       "       [ 4,  9],\n",
       "       [ 5, 10]])"
      ]
     },
     "execution_count": 14,
     "metadata": {},
     "output_type": "execute_result"
    }
   ],
   "source": [
    "reshaped_arr.T"
   ]
  },
  {
   "cell_type": "markdown",
   "id": "fd96a053",
   "metadata": {},
   "source": [
    "### 3."
   ]
  },
  {
   "cell_type": "code",
   "execution_count": null,
   "id": "5416a3a5",
   "metadata": {},
   "outputs": [
    {
     "data": {
      "text/plain": [
       "array([[1, 4],\n",
       "       [2, 5],\n",
       "       [3, 6]])"
      ]
     },
     "execution_count": 17,
     "metadata": {},
     "output_type": "execute_result"
    }
   ],
   "source": [
    "a = np.array([1, 2, 3])\n",
    "b = np.array([4, 5, 6])\n",
    "stacked_arr = np.stack((a, b), axis=1)\n",
    "print(stacked_arr)"
   ]
  },
  {
   "cell_type": "markdown",
   "id": "e9b6cbaf",
   "metadata": {},
   "source": [
    "### 4."
   ]
  },
  {
   "cell_type": "code",
   "execution_count": 21,
   "id": "d655ce71",
   "metadata": {},
   "outputs": [
    {
     "name": "stdout",
     "output_type": "stream",
     "text": [
      "[[1 2]\n",
      " [3 4]\n",
      " [5 6]\n",
      " [7 8]]\n"
     ]
    }
   ],
   "source": [
    "m1 = np.array([[1, 2], [3, 4]])\n",
    "m2 = np.array([[5, 6], [7, 8]])\n",
    "matrix_stack = np.vstack((m1, m2))\n",
    "print(matrix_stack)"
   ]
  },
  {
   "cell_type": "markdown",
   "id": "d056921d",
   "metadata": {},
   "source": [
    "### 5."
   ]
  },
  {
   "cell_type": "code",
   "execution_count": 24,
   "id": "1156891e",
   "metadata": {},
   "outputs": [
    {
     "name": "stdout",
     "output_type": "stream",
     "text": [
      "[[ 0  1  2  3]\n",
      " [ 4  5  6  7]\n",
      " [ 8  9 10 11]\n",
      " [12 13 14 15]]\n",
      "[[ 0  1]\n",
      " [ 4  5]\n",
      " [ 8  9]\n",
      " [12 13]]\n",
      "[[ 2  3]\n",
      " [ 6  7]\n",
      " [10 11]\n",
      " [14 15]]\n"
     ]
    }
   ],
   "source": [
    "arr_to_split = np.arange(16).reshape(4, 4)\n",
    "print(arr_to_split)\n",
    "hsplit_arrays = np.hsplit(arr_to_split, 2)\n",
    "for split_arrays in hsplit_arrays:\n",
    "    print(split_arrays)"
   ]
  },
  {
   "cell_type": "markdown",
   "id": "d6b1764d",
   "metadata": {},
   "source": [
    "### 6."
   ]
  },
  {
   "cell_type": "code",
   "execution_count": 36,
   "id": "a64bc5f9",
   "metadata": {},
   "outputs": [
    {
     "name": "stdout",
     "output_type": "stream",
     "text": [
      "[[0 1 2 3]\n",
      " [4 5 6 7]]\n",
      "[[ 8  9 10 11]\n",
      " [12 13 14 15]]\n"
     ]
    }
   ],
   "source": [
    "vsplit_arrays_in_index_2 = np.split(arr_to_split, [2], axis = 0)\n",
    "for split_arrays in vsplit_arrays_in_index_2:\n",
    "    print(split_arrays)"
   ]
  },
  {
   "cell_type": "markdown",
   "id": "91231e3a",
   "metadata": {},
   "source": [
    "## Part 3"
   ]
  },
  {
   "cell_type": "markdown",
   "id": "b6825e59",
   "metadata": {},
   "source": [
    "### 1."
   ]
  },
  {
   "cell_type": "code",
   "execution_count": 40,
   "id": "dcd9d988",
   "metadata": {},
   "outputs": [
    {
     "name": "stdout",
     "output_type": "stream",
     "text": [
      "11\n"
     ]
    }
   ],
   "source": [
    "data = np.array([[10, 11, 12],\n",
    "                 [13, 14, 15],\n",
    "                 [16, 17, 18]])\n",
    "print(data[0,1])"
   ]
  },
  {
   "cell_type": "markdown",
   "id": "a2b871bf",
   "metadata": {},
   "source": [
    "### 2."
   ]
  },
  {
   "cell_type": "code",
   "execution_count": 42,
   "id": "f0f5715a",
   "metadata": {},
   "outputs": [
    {
     "name": "stdout",
     "output_type": "stream",
     "text": [
      "[[10 11 12]\n",
      " [13 14 15]]\n"
     ]
    }
   ],
   "source": [
    "print(data[0:2, :])"
   ]
  },
  {
   "cell_type": "markdown",
   "id": "a7fe4f58",
   "metadata": {},
   "source": [
    "### 3."
   ]
  },
  {
   "cell_type": "code",
   "execution_count": 46,
   "id": "236456c5",
   "metadata": {},
   "outputs": [
    {
     "name": "stdout",
     "output_type": "stream",
     "text": [
      "[11 15 17]\n"
     ]
    }
   ],
   "source": [
    "rows = np.array([0, 1, 2])\n",
    "columns = np.array([1, 2, 1])\n",
    "print(data[rows, columns])"
   ]
  },
  {
   "cell_type": "markdown",
   "id": "e80f3de7",
   "metadata": {},
   "source": [
    "### 4."
   ]
  },
  {
   "cell_type": "code",
   "execution_count": 48,
   "id": "52af45f4",
   "metadata": {},
   "outputs": [
    {
     "name": "stdout",
     "output_type": "stream",
     "text": [
      "[85 92 95 88]\n"
     ]
    }
   ],
   "source": [
    "scores = np.array([85, 92, 78, 65, 95, 88])\n",
    "condition = scores > 80\n",
    "filtered_scores = scores[condition]\n",
    "print(filtered_scores)"
   ]
  },
  {
   "cell_type": "markdown",
   "id": "ae311e10",
   "metadata": {},
   "source": [
    "## Part 4"
   ]
  },
  {
   "cell_type": "markdown",
   "id": "61e86e5f",
   "metadata": {},
   "source": [
    "### 1."
   ]
  },
  {
   "cell_type": "code",
   "execution_count": 49,
   "id": "74ccbe43",
   "metadata": {},
   "outputs": [
    {
     "name": "stdout",
     "output_type": "stream",
     "text": [
      "[5. 5. 5.]\n"
     ]
    }
   ],
   "source": [
    "arr_op1 = np.array([10, 20, 30]) \n",
    "arr_op2 = np.array([2, 4, 6])\n",
    "arr_div = arr_op1 / arr_op2\n",
    "print(arr_div)"
   ]
  },
  {
   "cell_type": "markdown",
   "id": "d7762880",
   "metadata": {},
   "source": [
    "### 2."
   ]
  },
  {
   "cell_type": "code",
   "execution_count": 50,
   "id": "842b594b",
   "metadata": {},
   "outputs": [
    {
     "name": "stdout",
     "output_type": "stream",
     "text": [
      "45\n"
     ]
    }
   ],
   "source": [
    "matrix = np.array([[1, 2, 3], [4, 5, 6], [7, 8, 9]])\n",
    "sum_of_elements = np.sum(matrix)\n",
    "print(sum_of_elements)"
   ]
  },
  {
   "cell_type": "markdown",
   "id": "e0dfd563",
   "metadata": {},
   "source": [
    "### 3."
   ]
  },
  {
   "cell_type": "code",
   "execution_count": 53,
   "id": "a4c28bd9",
   "metadata": {},
   "outputs": [
    {
     "name": "stdout",
     "output_type": "stream",
     "text": [
      "5.0\n"
     ]
    }
   ],
   "source": [
    "print(matrix.mean())"
   ]
  },
  {
   "cell_type": "markdown",
   "id": "ad83d272",
   "metadata": {},
   "source": [
    "### 4."
   ]
  },
  {
   "cell_type": "code",
   "execution_count": 54,
   "id": "e13bc8ce",
   "metadata": {},
   "outputs": [
    {
     "name": "stdout",
     "output_type": "stream",
     "text": [
      "[ 90. 135. 180. 225.]\n"
     ]
    }
   ],
   "source": [
    "price_array = np.array([100, 150, 200, 250])\n",
    "discount_percentage = 0.10\n",
    "discounted_prices = price_array * (1 - discount_percentage)\n",
    "print(discounted_prices)"
   ]
  }
 ],
 "metadata": {
  "kernelspec": {
   "display_name": "Python 3",
   "language": "python",
   "name": "python3"
  },
  "language_info": {
   "codemirror_mode": {
    "name": "ipython",
    "version": 3
   },
   "file_extension": ".py",
   "mimetype": "text/x-python",
   "name": "python",
   "nbconvert_exporter": "python",
   "pygments_lexer": "ipython3",
   "version": "3.13.3"
  }
 },
 "nbformat": 4,
 "nbformat_minor": 5
}
